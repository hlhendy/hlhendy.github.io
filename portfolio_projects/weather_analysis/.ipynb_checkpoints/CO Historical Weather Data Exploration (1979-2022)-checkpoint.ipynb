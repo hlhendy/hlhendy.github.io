{
 "cells": [
  {
   "cell_type": "code",
   "execution_count": 2,
   "metadata": {},
   "outputs": [],
   "source": [
    "import pandas as pd\n",
    "import numpy as np\n",
    "import seaborn as sns"
   ]
  },
  {
   "cell_type": "code",
   "execution_count": 3,
   "metadata": {},
   "outputs": [
    {
     "name": "stdout",
     "output_type": "stream",
     "text": [
      "<class 'pandas.core.frame.DataFrame'>\n",
      "RangeIndex: 767992 entries, 0 to 767991\n",
      "Data columns (total 28 columns):\n",
      " #   Column               Non-Null Count   Dtype  \n",
      "---  ------               --------------   -----  \n",
      " 0   dt                   767992 non-null  int64  \n",
      " 1   dt_iso               767992 non-null  object \n",
      " 2   timezone             767992 non-null  int64  \n",
      " 3   city_name            767992 non-null  object \n",
      " 4   lat                  767992 non-null  float64\n",
      " 5   lon                  767992 non-null  float64\n",
      " 6   temp                 767992 non-null  float64\n",
      " 7   visibility           204404 non-null  float64\n",
      " 8   dew_point            767992 non-null  float64\n",
      " 9   feels_like           767992 non-null  float64\n",
      " 10  temp_min             767992 non-null  float64\n",
      " 11  temp_max             767992 non-null  float64\n",
      " 12  pressure             767992 non-null  int64  \n",
      " 13  sea_level            0 non-null       float64\n",
      " 14  grnd_level           0 non-null       float64\n",
      " 15  humidity             767992 non-null  int64  \n",
      " 16  wind_speed           767992 non-null  float64\n",
      " 17  wind_deg             767992 non-null  int64  \n",
      " 18  wind_gust            52638 non-null   float64\n",
      " 19  rain_1h              65885 non-null   float64\n",
      " 20  rain_3h              97 non-null      float64\n",
      " 21  snow_1h              50412 non-null   float64\n",
      " 22  snow_3h              0 non-null       float64\n",
      " 23  clouds_all           767992 non-null  int64  \n",
      " 24  weather_id           767992 non-null  int64  \n",
      " 25  weather_main         767992 non-null  object \n",
      " 26  weather_description  767992 non-null  object \n",
      " 27  weather_icon         767992 non-null  object \n",
      "dtypes: float64(16), int64(7), object(5)\n",
      "memory usage: 164.1+ MB\n",
      "<class 'pandas.core.frame.DataFrame'>\n",
      "RangeIndex: 767992 entries, 0 to 767991\n",
      "Data columns (total 24 columns):\n",
      " #   Column               Non-Null Count   Dtype  \n",
      "---  ------               --------------   -----  \n",
      " 0   dt                   767992 non-null  int64  \n",
      " 1   dt_iso               767992 non-null  object \n",
      " 2   timezone             767992 non-null  int64  \n",
      " 3   city_name            767992 non-null  object \n",
      " 4   lat                  767992 non-null  float64\n",
      " 5   lon                  767992 non-null  float64\n",
      " 6   temp                 767992 non-null  float64\n",
      " 7   visibility           204404 non-null  float64\n",
      " 8   dew_point            767992 non-null  float64\n",
      " 9   feels_like           767992 non-null  float64\n",
      " 10  temp_min             767992 non-null  float64\n",
      " 11  temp_max             767992 non-null  float64\n",
      " 12  pressure             767992 non-null  int64  \n",
      " 13  humidity             767992 non-null  int64  \n",
      " 14  wind_speed           767992 non-null  float64\n",
      " 15  wind_deg             767992 non-null  int64  \n",
      " 16  wind_gust            52638 non-null   float64\n",
      " 17  rain_1h              65885 non-null   float64\n",
      " 18  snow_1h              50412 non-null   float64\n",
      " 19  clouds_all           767992 non-null  int64  \n",
      " 20  weather_id           767992 non-null  int64  \n",
      " 21  weather_main         767992 non-null  object \n",
      " 22  weather_description  767992 non-null  object \n",
      " 23  weather_icon         767992 non-null  object \n",
      "dtypes: float64(12), int64(7), object(5)\n",
      "memory usage: 140.6+ MB\n"
     ]
    }
   ],
   "source": [
    "df = pd.read_csv('data/historical-weather-data-1979.csv')\n",
    "\n",
    "df.info()\n",
    "# https://openweathermap.org/api/history-forecast-bulk#sample\n",
    "df = df.drop(['sea_level', 'grnd_level', 'snow_3h', 'rain_3h'], axis=1)\n",
    "df.info()"
   ]
  },
  {
   "cell_type": "code",
   "execution_count": 4,
   "metadata": {},
   "outputs": [
    {
     "name": "stdout",
     "output_type": "stream",
     "text": [
      "Before:  39.3161\n",
      "Before:  39.836653000000005\n",
      "After:   39.3161\n",
      "After:   39.8367\n"
     ]
    }
   ],
   "source": [
    "# Normalize the latitude\n",
    "print(\"Before: \", df.lat[767991])\n",
    "print(\"Before: \", df.lat[0])\n",
    "df.lat = round(df.lat.copy(), 4)\n",
    "print(\"After:  \", df.lat[767991])\n",
    "print(\"After:  \", df.lat[0])"
   ]
  },
  {
   "cell_type": "code",
   "execution_count": 61,
   "metadata": {},
   "outputs": [
    {
     "data": {
      "text/html": [
       "<div>\n",
       "<style scoped>\n",
       "    .dataframe tbody tr th:only-of-type {\n",
       "        vertical-align: middle;\n",
       "    }\n",
       "\n",
       "    .dataframe tbody tr th {\n",
       "        vertical-align: top;\n",
       "    }\n",
       "\n",
       "    .dataframe thead th {\n",
       "        text-align: right;\n",
       "    }\n",
       "</style>\n",
       "<table border=\"1\" class=\"dataframe\">\n",
       "  <thead>\n",
       "    <tr style=\"text-align: right;\">\n",
       "      <th></th>\n",
       "      <th>dt</th>\n",
       "      <th>dt_iso</th>\n",
       "      <th>timezone</th>\n",
       "      <th>city_name</th>\n",
       "      <th>lat</th>\n",
       "      <th>lon</th>\n",
       "      <th>temp</th>\n",
       "      <th>visibility</th>\n",
       "      <th>dew_point</th>\n",
       "      <th>feels_like</th>\n",
       "      <th>...</th>\n",
       "      <th>weather_id</th>\n",
       "      <th>weather_main</th>\n",
       "      <th>weather_description</th>\n",
       "      <th>weather_icon</th>\n",
       "      <th>date</th>\n",
       "      <th>year</th>\n",
       "      <th>month</th>\n",
       "      <th>day</th>\n",
       "      <th>season</th>\n",
       "      <th>decade</th>\n",
       "    </tr>\n",
       "  </thead>\n",
       "  <tbody>\n",
       "    <tr>\n",
       "      <th>0</th>\n",
       "      <td>283996800</td>\n",
       "      <td>1979-01-01 00:00:00 +0000 UTC</td>\n",
       "      <td>-25200</td>\n",
       "      <td>Westminster</td>\n",
       "      <td>39.8367</td>\n",
       "      <td>-105.037205</td>\n",
       "      <td>-2.00</td>\n",
       "      <td>NaN</td>\n",
       "      <td>-6.90</td>\n",
       "      <td>-12.06</td>\n",
       "      <td>...</td>\n",
       "      <td>803</td>\n",
       "      <td>Clouds</td>\n",
       "      <td>broken clouds</td>\n",
       "      <td>04n</td>\n",
       "      <td>1979-01-01 00:00:00</td>\n",
       "      <td>1979</td>\n",
       "      <td>1</td>\n",
       "      <td>1</td>\n",
       "      <td>winter</td>\n",
       "      <td>1980</td>\n",
       "    </tr>\n",
       "    <tr>\n",
       "      <th>1</th>\n",
       "      <td>284000400</td>\n",
       "      <td>1979-01-01 01:00:00 +0000 UTC</td>\n",
       "      <td>-25200</td>\n",
       "      <td>Westminster</td>\n",
       "      <td>39.8367</td>\n",
       "      <td>-105.037205</td>\n",
       "      <td>-2.13</td>\n",
       "      <td>NaN</td>\n",
       "      <td>-7.26</td>\n",
       "      <td>-10.12</td>\n",
       "      <td>...</td>\n",
       "      <td>803</td>\n",
       "      <td>Clouds</td>\n",
       "      <td>broken clouds</td>\n",
       "      <td>04n</td>\n",
       "      <td>1979-01-01 01:00:00</td>\n",
       "      <td>1979</td>\n",
       "      <td>1</td>\n",
       "      <td>1</td>\n",
       "      <td>winter</td>\n",
       "      <td>1980</td>\n",
       "    </tr>\n",
       "    <tr>\n",
       "      <th>2</th>\n",
       "      <td>284004000</td>\n",
       "      <td>1979-01-01 02:00:00 +0000 UTC</td>\n",
       "      <td>-25200</td>\n",
       "      <td>Westminster</td>\n",
       "      <td>39.8367</td>\n",
       "      <td>-105.037205</td>\n",
       "      <td>-3.84</td>\n",
       "      <td>NaN</td>\n",
       "      <td>-8.00</td>\n",
       "      <td>-3.84</td>\n",
       "      <td>...</td>\n",
       "      <td>803</td>\n",
       "      <td>Clouds</td>\n",
       "      <td>broken clouds</td>\n",
       "      <td>04n</td>\n",
       "      <td>1979-01-01 02:00:00</td>\n",
       "      <td>1979</td>\n",
       "      <td>1</td>\n",
       "      <td>1</td>\n",
       "      <td>winter</td>\n",
       "      <td>1980</td>\n",
       "    </tr>\n",
       "    <tr>\n",
       "      <th>3</th>\n",
       "      <td>284007600</td>\n",
       "      <td>1979-01-01 03:00:00 +0000 UTC</td>\n",
       "      <td>-25200</td>\n",
       "      <td>Westminster</td>\n",
       "      <td>39.8367</td>\n",
       "      <td>-105.037205</td>\n",
       "      <td>-5.93</td>\n",
       "      <td>NaN</td>\n",
       "      <td>-9.81</td>\n",
       "      <td>-5.93</td>\n",
       "      <td>...</td>\n",
       "      <td>803</td>\n",
       "      <td>Clouds</td>\n",
       "      <td>broken clouds</td>\n",
       "      <td>04n</td>\n",
       "      <td>1979-01-01 03:00:00</td>\n",
       "      <td>1979</td>\n",
       "      <td>1</td>\n",
       "      <td>1</td>\n",
       "      <td>winter</td>\n",
       "      <td>1980</td>\n",
       "    </tr>\n",
       "    <tr>\n",
       "      <th>4</th>\n",
       "      <td>284011200</td>\n",
       "      <td>1979-01-01 04:00:00 +0000 UTC</td>\n",
       "      <td>-25200</td>\n",
       "      <td>Westminster</td>\n",
       "      <td>39.8367</td>\n",
       "      <td>-105.037205</td>\n",
       "      <td>-4.77</td>\n",
       "      <td>NaN</td>\n",
       "      <td>-9.36</td>\n",
       "      <td>-4.77</td>\n",
       "      <td>...</td>\n",
       "      <td>803</td>\n",
       "      <td>Clouds</td>\n",
       "      <td>broken clouds</td>\n",
       "      <td>04n</td>\n",
       "      <td>1979-01-01 04:00:00</td>\n",
       "      <td>1979</td>\n",
       "      <td>1</td>\n",
       "      <td>1</td>\n",
       "      <td>winter</td>\n",
       "      <td>1980</td>\n",
       "    </tr>\n",
       "  </tbody>\n",
       "</table>\n",
       "<p>5 rows × 30 columns</p>\n",
       "</div>"
      ],
      "text/plain": [
       "          dt                         dt_iso  timezone    city_name      lat  \\\n",
       "0  283996800  1979-01-01 00:00:00 +0000 UTC    -25200  Westminster  39.8367   \n",
       "1  284000400  1979-01-01 01:00:00 +0000 UTC    -25200  Westminster  39.8367   \n",
       "2  284004000  1979-01-01 02:00:00 +0000 UTC    -25200  Westminster  39.8367   \n",
       "3  284007600  1979-01-01 03:00:00 +0000 UTC    -25200  Westminster  39.8367   \n",
       "4  284011200  1979-01-01 04:00:00 +0000 UTC    -25200  Westminster  39.8367   \n",
       "\n",
       "          lon  temp  visibility  dew_point  feels_like  ...  weather_id  \\\n",
       "0 -105.037205 -2.00         NaN      -6.90      -12.06  ...         803   \n",
       "1 -105.037205 -2.13         NaN      -7.26      -10.12  ...         803   \n",
       "2 -105.037205 -3.84         NaN      -8.00       -3.84  ...         803   \n",
       "3 -105.037205 -5.93         NaN      -9.81       -5.93  ...         803   \n",
       "4 -105.037205 -4.77         NaN      -9.36       -4.77  ...         803   \n",
       "\n",
       "   weather_main  weather_description  weather_icon                date  year  \\\n",
       "0        Clouds        broken clouds           04n 1979-01-01 00:00:00  1979   \n",
       "1        Clouds        broken clouds           04n 1979-01-01 01:00:00  1979   \n",
       "2        Clouds        broken clouds           04n 1979-01-01 02:00:00  1979   \n",
       "3        Clouds        broken clouds           04n 1979-01-01 03:00:00  1979   \n",
       "4        Clouds        broken clouds           04n 1979-01-01 04:00:00  1979   \n",
       "\n",
       "   month  day  season  decade  \n",
       "0      1    1  winter    1980  \n",
       "1      1    1  winter    1980  \n",
       "2      1    1  winter    1980  \n",
       "3      1    1  winter    1980  \n",
       "4      1    1  winter    1980  \n",
       "\n",
       "[5 rows x 30 columns]"
      ]
     },
     "execution_count": 61,
     "metadata": {},
     "output_type": "execute_result"
    }
   ],
   "source": [
    "# Get Day, Month, Year from Forecast ISO\n",
    "df['date'] = pd.to_datetime(df['dt'],unit='s')\n",
    "df['year'] = pd.DatetimeIndex(df['date']).year\n",
    "df['month'] = pd.DatetimeIndex(df['date']).month\n",
    "df['day'] = pd.DatetimeIndex(df['date']).day\n",
    "\n",
    "# Get Seasons\n",
    "seasons = {'winter': [12, 1, 2], 'spring': [3, 4, 5], 'summer': [6, 7, 8], 'fall': [9, 10, 11]}\n",
    "\n",
    "# create a list of our conditions\n",
    "conditions_months = [\n",
    "    (df['month'].isin(seasons['winter'])),\n",
    "    (df['month'].isin(seasons['spring'])),\n",
    "    (df['month'].isin(seasons['summer'])),\n",
    "    (df['month'].isin(seasons['fall'])),\n",
    "    ]\n",
    "\n",
    "# create a list of the values we want to assign for each condition\n",
    "values_seasons = ['winter', 'spring', 'summer', 'fall']\n",
    "\n",
    "# create a new column and use np.select to assign values to it using our lists as arguments\n",
    "df['season'] = np.select(conditions_months, values_seasons)\n",
    "\n",
    "# TODO - group years into decades\n",
    "decades = {\n",
    "    '80s': np.arange(start=1979, stop=1990), \n",
    "    '90s': np.arange(start=1990, stop=2000), \n",
    "    '00s': np.arange(start=2000, stop=2010), \n",
    "    '10s': np.arange(start=2010, stop=2020),\n",
    "    '20s': np.arange(start=2020, stop=2030)\n",
    "}\n",
    "\n",
    "\n",
    "conditions_decades = [\n",
    "    (df['year'].isin(decades['80s'])), # includes 1979\n",
    "    (df['year'].isin(decades['90s'])),\n",
    "    (df['year'].isin(decades['00s'])),\n",
    "    (df['year'].isin(decades['10s'])),\n",
    "    (df['year'].isin(decades['20s'])),\n",
    "    ]\n",
    "\n",
    "# create a list of the values we want to assign for each condition\n",
    "values_decades = [1980, 1990, 2000, 2010, 2020]\n",
    "\n",
    "# create a new column and use np.select to assign values to it using our lists as arguments\n",
    "df['decade'] = np.select(conditions_decades, values_decades)\n",
    "\n",
    "df.head()"
   ]
  },
  {
   "cell_type": "code",
   "execution_count": 13,
   "metadata": {
    "scrolled": true
   },
   "outputs": [
    {
     "data": {
      "image/png": "[encoded data removed]",
      "text/plain": [
       "<Figure size 504x360 with 2 Axes>"
      ]
     },
     "metadata": {
      "needs_background": "light"
     },
     "output_type": "display_data"
    }
   ],
   "source": [
    "sns.catplot(x=\"decade\", y=\"temp\",\n",
    "            col=\"city_name\", aspect=.7,\n",
    "            kind=\"bar\", data=df)"
   ]
  },
  {
   "cell_type": "code",
   "execution_count": 227,
   "metadata": {},
   "outputs": [
    {
     "data": {
      "text/plain": [
       "([<matplotlib.axis.XTick at 0x13edd6410>,\n",
       "  <matplotlib.axis.XTick at 0x13edd63d0>,\n",
       "  <matplotlib.axis.XTick at 0x13edd4f50>,\n",
       "  <matplotlib.axis.XTick at 0x13ef64a50>],\n",
       " [Text(0, 0, '1980'),\n",
       "  Text(0, 0, '1990'),\n",
       "  Text(0, 0, '2000'),\n",
       "  Text(0, 0, '2010')])"
      ]
     },
     "execution_count": 227,
     "metadata": {},
     "output_type": "execute_result"
    },
    {
     "data": {
      "image/png": "[encoded data removed]",
      "text/plain": [
       "<Figure size 1080x360 with 1 Axes>"
      ]
     },
     "metadata": {},
     "output_type": "display_data"
    }
   ],
   "source": [
    "import matplotlib.pyplot as plt\n",
    "\n",
    "#Climate Change in Colorado\n",
    "# A Synthesis to Support Water Resources Management and Adaptation\n",
    "# # Second Edition - August 2014\n",
    "# A Report for the Colorado Water Conservation Board\n",
    "# Western Water Assessment, Cooperative Institute for Research in Environmental\n",
    "# Sciences (CIRES), University of Colorado Boulder\n",
    "# Copyright © 2014 University of Colorado Boulder\n",
    "# Funding for this report was provided by the Colorado Water Conservation Board, and\n",
    "# by the Western Water Assessment through a grant from the NOAA Climate Program\n",
    "\n",
    "# departures from 1979-2000 reference period\n",
    "reference_period = df.loc[(df['year']<2001) & (df['year']>1971)]\n",
    "ref_temp = reference_period['temp'].mean()\n",
    "\n",
    "temp_departures = df.groupby('year').mean()['temp'] - ref_temp\n",
    "\n",
    "temp_departures_2010 = temp_departures[:32]\n",
    "sns.set(rc={'figure.figsize':(15,5)})\n",
    "sns.barplot(x=temp_departures_2010.index, y=temp_departures_2010, hue=temp_departures_2010>0)\n",
    "\n",
    "#specify positions of ticks on x-axis and y-axis\n",
    "plt.xticks(np.arange(1, 40, 10), ['1980', '1990', '2000', '2010'])"
   ]
  },
  {
   "cell_type": "code",
   "execution_count": 231,
   "metadata": {},
   "outputs": [
    {
     "data": {
      "text/plain": [
       "([<matplotlib.axis.XTick at 0x13ddeb7d0>,\n",
       "  <matplotlib.axis.XTick at 0x13ddeb610>,\n",
       "  <matplotlib.axis.XTick at 0x13ddebb10>,\n",
       "  <matplotlib.axis.XTick at 0x13c5a8ed0>,\n",
       "  <matplotlib.axis.XTick at 0x13d155710>],\n",
       " [Text(0, 0, '1980'),\n",
       "  Text(0, 0, '1990'),\n",
       "  Text(0, 0, '2000'),\n",
       "  Text(0, 0, '2010'),\n",
       "  Text(0, 0, '2020')])"
      ]
     },
     "execution_count": 231,
     "metadata": {},
     "output_type": "execute_result"
    },
    {
     "data": {
      "image/png": "[encoded data removed]",
      "text/plain": [
       "<Figure size 1080x360 with 1 Axes>"
      ]
     },
     "metadata": {},
     "output_type": "display_data"
    }
   ],
   "source": [
    "# departures from 1990-2010 reference period updated\n",
    "reference_period_updated = df.loc[(df['year']<2011) & (df['year']>1989)]\n",
    "ref_temp_updated = reference_period_updated['temp'].mean()\n",
    "\n",
    "temp_departures_updated = df.groupby('year').mean()['temp'] - ref_temp_updated\n",
    "\n",
    "sns.set(rc={'figure.figsize':(15,5)})\n",
    "sns.barplot(x=temp_departures_updated.index, y=temp_departures_updated, hue=temp_departures_updated>0)\n",
    "\n",
    "#specify positions of ticks on x-axis and y-axis\n",
    "plt.xticks(np.arange(1, 50, 10), ['1980', '1990', '2000', '2010', '2020'])"
   ]
  },
  {
   "cell_type": "code",
   "execution_count": 232,
   "metadata": {},
   "outputs": [
    {
     "name": "stdout",
     "output_type": "stream",
     "text": [
      "40.287677009652654\n"
     ]
    },
    {
     "data": {
      "text/plain": [
       "decade\n",
       "1980   -3.237093\n",
       "1990   -2.596234\n",
       "2000   -1.235434\n",
       "2010    2.990701\n",
       "2020    4.078059\n",
       "Name: temp, dtype: float64"
      ]
     },
     "execution_count": 232,
     "metadata": {},
     "output_type": "execute_result"
    }
   ],
   "source": [
    "temps_by_decade = df.groupby('decade').mean()['temp']\n",
    "temps_by_decade_mean = temps_by_decade.mean()\n",
    "print(temps_by_decade_mean)\n",
    "\n",
    "temps_by_decades_diffs = temps_by_decade - temps_by_decade_mean\n",
    "temps_by_decades_diffs"
   ]
  },
  {
   "cell_type": "code",
   "execution_count": 221,
   "metadata": {},
   "outputs": [
    {
     "data": {
      "image/png": "[encoded data removed]",
      "text/plain": [
       "<Figure size 1080x360 with 1 Axes>"
      ]
     },
     "metadata": {},
     "output_type": "display_data"
    }
   ],
   "source": [
    "temps_by_decade_season = df.groupby(['decade', 'season']).mean()['temp']\n",
    "import matplotlib.pyplot as plt\n",
    "import numpy as np\n",
    "\n",
    "\n",
    "labels = ['Spring', 'Summer', 'Fall', 'Winter']\n",
    "men_means = [20, 34, 30, 35]\n",
    "women_means = [25, 32, 34, 20]\n",
    "\n",
    "x = np.arange(len(labels))  # the label locations\n",
    "width = 0.15  # the width of the bars\n",
    "\n",
    "fig, ax = plt.subplots()\n",
    "rects1 = ax.bar(x - width*2, temps_by_decade_season[1980], width, label='1980')\n",
    "rects2 = ax.bar(x - width, temps_by_decade_season[1990], width, label='1990')\n",
    "rects3 = ax.bar(x + width*0, temps_by_decade_season[2000], width, label='2000')\n",
    "rects4 = ax.bar(x + width, temps_by_decade_season[2010], width, label='2010')\n",
    "rects5 = ax.bar(x + width*2, temps_by_decade_season[2020], width, label='2020')\n",
    "\n",
    "# Add some text for labels, title and custom x-axis tick labels, etc.\n",
    "ax.set_ylabel('Temps (F)')\n",
    "ax.set_title('Temps By Decade and Season')\n",
    "ax.legend()\n",
    "\n",
    "plt.xticks(ticks=x, labels=labels)\n",
    "\n",
    "fig.tight_layout()\n",
    "\n",
    "plt.show()"
   ]
  }
 ],
 "metadata": {
  "kernelspec": {
   "display_name": "Python 3",
   "language": "python",
   "name": "python3"
  },
  "language_info": {
   "codemirror_mode": {
    "name": "ipython",
    "version": 3
   },
   "file_extension": ".py",
   "mimetype": "text/x-python",
   "name": "python",
   "nbconvert_exporter": "python",
   "pygments_lexer": "ipython3",
   "version": "3.7.7"
  }
 },
 "nbformat": 4,
 "nbformat_minor": 4
}
